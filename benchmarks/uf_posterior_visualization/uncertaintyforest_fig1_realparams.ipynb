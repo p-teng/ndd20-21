{
 "cells": [
  {
   "cell_type": "markdown",
   "metadata": {},
   "source": [
    "# Tutorial Overview\n",
    "This set of two tutorials (`uncertaintyforest_running_example.ipynb` and `uncertaintyforest_fig1.ipynb`) will explain the UncertaintyForest class. After following both tutorials, you should have the ability to run UncertaintyForest code on your own machine and generate Figure 1 from [this paper](https://arxiv.org/pdf/1907.00325.pdf). \n",
    "\n",
    "If you haven't seen it already, take a look at other tutorials to setup and install the progressive learning package `Installation-and-Package-Setup-Tutorial.ipynb`\n",
    "\n",
    "# Analyzing the UncertaintyForest Class by Reproducing Figure 1\n",
    "## *Goal: Run the UncertaintyForest class to produce the results from Figure 1*\n",
    "*Note: Figure 1 refers to Figure 1 from [this paper](https://arxiv.org/pdf/1907.00325.pdf)*"
   ]
  },
  {
   "cell_type": "markdown",
   "metadata": {},
   "source": [
    "### First, we'll import the necessary packages that will be required"
   ]
  },
  {
   "cell_type": "code",
   "execution_count": null,
   "metadata": {},
   "outputs": [],
   "source": [
    "import numpy as np\n",
    "\n",
    "from sklearn.ensemble import RandomForestClassifier\n",
    "from sklearn.calibration import CalibratedClassifierCV\n",
    "\n",
    "from proglearn.forest import UncertaintyForest\n",
    "from functions.unc_forest_tutorials_functions import generate_data, estimate_posterior, plot_posterior,  plot_variance,  plot_fig1"
   ]
  },
  {
   "cell_type": "markdown",
   "metadata": {},
   "source": [
    "### Now, we'll specify some parameters "
   ]
  },
  {
   "cell_type": "code",
   "execution_count": null,
   "metadata": {},
   "outputs": [],
   "source": [
    "# These are the real parameters used to produce the figure in the paper.\n",
    "\n",
    "n = 6000 # number of data points\n",
    "mean = 1 # mean of the data\n",
    "var = 1 # variance of the data\n",
    "num_trials = 100 # number of trials to run\n",
    "X_eval = np.linspace(-2, 2, num = 30).reshape(-1, 1) # the evaluation span (over X) for the plot\n",
    "n_estimators = 300 # the number of estimators\n",
    "num_plotted_trials = 10 # the number of \"fainter\" lines to be displayed on the figure"
   ]
  },
  {
   "cell_type": "markdown",
   "metadata": {},
   "source": [
    "### Now, we'll specify which learners we'll compare. Figure 1 uses three different learners specified below."
   ]
  },
  {
   "cell_type": "code",
   "execution_count": null,
   "metadata": {},
   "outputs": [],
   "source": [
    "# Algorithms used to produce figure 1\n",
    "algos = [\n",
    "    {\n",
    "        'instance': RandomForestClassifier(n_estimators = n_estimators),\n",
    "        'label': 'CART',\n",
    "        'title': 'CART Forest',\n",
    "        'color': \"#1b9e77\",\n",
    "    },\n",
    "    {\n",
    "        'instance': CalibratedClassifierCV(base_estimator=RandomForestClassifier(n_estimators = n_estimators // 5), \n",
    "                                           method='isotonic', \n",
    "                                           cv = 5),\n",
    "        'label': 'IRF',\n",
    "        'title': 'Isotonic Reg. Forest',\n",
    "        'color': \"#fdae61\",\n",
    "    },\n",
    "    {\n",
    "        'instance': UncertaintyForest(n_estimators = n_estimators),\n",
    "        'label': 'UF',\n",
    "        'title': 'Uncertainty Forest',\n",
    "        'color': \"#F41711\",\n",
    "    },\n",
    "]\n",
    "\n",
    "# Plotting parameters\n",
    "parallel = True"
   ]
  },
  {
   "cell_type": "markdown",
   "metadata": {},
   "source": [
    "### Now, we'll run the code to obtain the results that will be displayed in Figure1"
   ]
  },
  {
   "cell_type": "code",
   "execution_count": null,
   "metadata": {},
   "outputs": [],
   "source": [
    "# This is the code that actually generates data and predictions.\n",
    "for algo in algos:\n",
    "    algo['predicted_posterior'] = estimate_posterior(algo, n, mean, var, num_trials, X_eval, parallel = parallel)"
   ]
  },
  {
   "cell_type": "markdown",
   "metadata": {},
   "source": [
    "### Finally, create figure 1."
   ]
  },
  {
   "cell_type": "code",
   "execution_count": null,
   "metadata": {},
   "outputs": [],
   "source": [
    "plot_fig1(algos, num_plotted_trials, X_eval)"
   ]
  }
 ],
 "metadata": {
  "kernelspec": {
   "display_name": "Python 3",
   "language": "python",
   "name": "python3"
  },
  "language_info": {
   "codemirror_mode": {
    "name": "ipython",
    "version": 3
   },
   "file_extension": ".py",
   "mimetype": "text/x-python",
   "name": "python",
   "nbconvert_exporter": "python",
   "pygments_lexer": "ipython3",
   "version": "3.7.0"
  }
 },
 "nbformat": 4,
 "nbformat_minor": 4
}